{
 "cells": [
  {
   "cell_type": "code",
   "execution_count": 20,
   "metadata": {},
   "outputs": [],
   "source": [
    "import tensorflow as tf\n",
    "import cv2\n",
    "from tqdm import tqdm\n",
    "import os\n",
    "import numpy as np\n",
    "from sklearn.model_selection import train_test_split\n",
    "from sklearn.preprocessing import LabelBinarizer\n",
    "from tensorflow.keras.layers import Dense, Dropout, Activation, Flatten, Input\n",
    "from tensorflow.keras.layers import Conv2D, MaxPooling2D, AveragePooling2D\n",
    "from tensorflow.keras.preprocessing.image import ImageDataGenerator\n",
    "from tensorflow.keras.applications import MobileNetV2\n",
    "from tensorflow.keras.applications.mobilenet_v2 import preprocess_input\n",
    "from tensorflow.keras.preprocessing.image import img_to_array\n",
    "from tensorflow.keras.preprocessing.image import load_img\n",
    "from IPython.display import display, Image\n",
    "import matplotlib.pyplot as plt"
   ]
  },
  {
   "cell_type": "code",
   "execution_count": 2,
   "metadata": {},
   "outputs": [],
   "source": [
    "DATASET_DIRECTORY = \"C:/Users/cauld/Downloads/face-mask-detector/face-mask-detector/dataset\"\n",
    "CATEGORIES = ['without_mask', 'with_mask']\n",
    "IMG_SIZE = 224"
   ]
  },
  {
   "cell_type": "code",
   "execution_count": 3,
   "metadata": {},
   "outputs": [
    {
     "name": "stderr",
     "output_type": "stream",
     "text": [
      "100%|███████████████████████████████████████████████████████████████████████████████| 686/686 [00:04<00:00, 137.52it/s]\n",
      "100%|███████████████████████████████████████████████████████████████████████████████| 690/690 [00:05<00:00, 122.52it/s]\n"
     ]
    }
   ],
   "source": [
    "images = []\n",
    "labels = []\n",
    "\n",
    "aug_generate = ImageDataGenerator(\n",
    "    rotation_range=20,\n",
    "    zoom_range=0.15,\n",
    "    width_shift_range=0.2,\n",
    "    height_shift_range=0.2,\n",
    "    shear_range=0.15,\n",
    "    horizontal_flip=True,\n",
    "    fill_mode='nearest',\n",
    ")\n",
    "\n",
    "def create_data():\n",
    "    for label_number, category in enumerate(CATEGORIES):\n",
    "        path = os.path.join(DATASET_DIRECTORY, category)\n",
    "        for img in tqdm(os.listdir(path)):\n",
    "            image = load_img(os.path.join(path, img), target_size=(IMG_SIZE, IMG_SIZE))\n",
    "            image = img_to_array(image)\n",
    "            image = preprocess_input(image)\n",
    "            images.append(image)\n",
    "            labels.append(label_number)\n",
    "\n",
    "create_data()\n",
    "images = np.array(images, dtype=\"float32\")\n",
    "labels = np.array(labels)"
   ]
  },
  {
   "cell_type": "code",
   "execution_count": 4,
   "metadata": {},
   "outputs": [
    {
     "data": {
      "text/plain": [
       "(1376, 224, 224, 3)"
      ]
     },
     "execution_count": 4,
     "metadata": {},
     "output_type": "execute_result"
    }
   ],
   "source": [
    "images.shape"
   ]
  },
  {
   "cell_type": "code",
   "execution_count": 5,
   "metadata": {},
   "outputs": [],
   "source": [
    "lb = LabelBinarizer()\n",
    "labels = lb.fit_transform(labels)\n",
    "labels = tf.keras.utils.to_categorical(labels)"
   ]
  },
  {
   "cell_type": "code",
   "execution_count": 6,
   "metadata": {},
   "outputs": [],
   "source": [
    "images_train, images_test, labels_train, labels_test = train_test_split(images, labels, train_size=0.80, test_size=0.20, random_state=42)"
   ]
  },
  {
   "cell_type": "code",
   "execution_count": 130,
   "metadata": {},
   "outputs": [
    {
     "data": {
      "text/plain": [
       "1100"
      ]
     },
     "execution_count": 130,
     "metadata": {},
     "output_type": "execute_result"
    }
   ],
   "source": [
    "len(images_train)"
   ]
  },
  {
   "cell_type": "code",
   "execution_count": 7,
   "metadata": {},
   "outputs": [
    {
     "name": "stderr",
     "output_type": "stream",
     "text": [
      "C:\\Users\\cauld\\anaconda3\\envs\\tensorflow\\lib\\site-packages\\keras_applications\\mobilenet_v2.py:294: UserWarning: `input_shape` is undefined or non-square, or `rows` is not in [96, 128, 160, 192, 224]. Weights for input shape (224, 224) will be loaded as the default.\n",
      "  warnings.warn('`input_shape` is undefined or non-square, '\n"
     ]
    }
   ],
   "source": [
    "baseModel = MobileNetV2(weights=\"imagenet\", include_top=False, input_tensor=Input(shape=(IMG_SIZE, IMG_SIZE, 3)))\n",
    "\n",
    "headModel = baseModel.output\n",
    "headModel = AveragePooling2D(pool_size=(7, 7))(headModel)\n",
    "headModel = Flatten(name=\"flatten\")(headModel)\n",
    "headModel = Dense(128, activation=\"relu\")(headModel)\n",
    "headModel = Dropout(0.5)(headModel)\n",
    "headModel = Dense(2, activation=\"softmax\")(headModel)"
   ]
  },
  {
   "cell_type": "code",
   "execution_count": 8,
   "metadata": {},
   "outputs": [],
   "source": [
    "model = tf.keras.models.Model(inputs=baseModel.input, outputs=headModel)\n",
    "\n",
    "for layer in baseModel.layers:\n",
    "    layer.trainable = False"
   ]
  },
  {
   "cell_type": "code",
   "execution_count": 9,
   "metadata": {},
   "outputs": [
    {
     "name": "stdout",
     "output_type": "stream",
     "text": [
      "WARNING:tensorflow:sample_weight modes were coerced from\n",
      "  ...\n",
      "    to  \n",
      "  ['...']\n",
      "Train for 34 steps, validate on 276 samples\n",
      "Epoch 1/20\n",
      "34/34 [==============================] - 14s 412ms/step - loss: 0.7156 - accuracy: 0.6011 - val_loss: 0.3677 - val_accuracy: 0.8711\n",
      "Epoch 2/20\n",
      "34/34 [==============================] - 10s 298ms/step - loss: 0.4074 - accuracy: 0.8165 - val_loss: 0.2258 - val_accuracy: 0.9219\n",
      "Epoch 3/20\n",
      "34/34 [==============================] - 10s 300ms/step - loss: 0.3064 - accuracy: 0.8670 - val_loss: 0.1623 - val_accuracy: 0.9531\n",
      "Epoch 4/20\n",
      "34/34 [==============================] - 11s 311ms/step - loss: 0.2274 - accuracy: 0.9082 - val_loss: 0.1323 - val_accuracy: 0.9570\n",
      "Epoch 5/20\n",
      "34/34 [==============================] - 11s 314ms/step - loss: 0.1795 - accuracy: 0.9307 - val_loss: 0.1229 - val_accuracy: 0.9492\n",
      "Epoch 6/20\n",
      "34/34 [==============================] - 10s 308ms/step - loss: 0.1977 - accuracy: 0.9298 - val_loss: 0.1003 - val_accuracy: 0.9688\n",
      "Epoch 7/20\n",
      "34/34 [==============================] - 10s 308ms/step - loss: 0.1708 - accuracy: 0.9288 - val_loss: 0.0917 - val_accuracy: 0.9688\n",
      "Epoch 8/20\n",
      "34/34 [==============================] - 10s 302ms/step - loss: 0.1646 - accuracy: 0.9429 - val_loss: 0.0777 - val_accuracy: 0.9766\n",
      "Epoch 9/20\n",
      "34/34 [==============================] - 10s 308ms/step - loss: 0.1255 - accuracy: 0.9541 - val_loss: 0.0746 - val_accuracy: 0.9727\n",
      "Epoch 10/20\n",
      "34/34 [==============================] - 10s 297ms/step - loss: 0.1306 - accuracy: 0.9541 - val_loss: 0.0701 - val_accuracy: 0.9727\n",
      "Epoch 11/20\n",
      "34/34 [==============================] - 10s 306ms/step - loss: 0.1336 - accuracy: 0.9466 - val_loss: 0.0844 - val_accuracy: 0.9688\n",
      "Epoch 12/20\n",
      "34/34 [==============================] - 10s 302ms/step - loss: 0.1151 - accuracy: 0.9616 - val_loss: 0.0652 - val_accuracy: 0.9688\n",
      "Epoch 13/20\n",
      "34/34 [==============================] - 10s 302ms/step - loss: 0.1298 - accuracy: 0.9513 - val_loss: 0.0608 - val_accuracy: 0.9727\n",
      "Epoch 14/20\n",
      "34/34 [==============================] - 10s 298ms/step - loss: 0.1230 - accuracy: 0.9504 - val_loss: 0.0708 - val_accuracy: 0.9727\n",
      "Epoch 15/20\n",
      "34/34 [==============================] - 10s 295ms/step - loss: 0.1148 - accuracy: 0.9541 - val_loss: 0.0852 - val_accuracy: 0.9648\n",
      "Epoch 16/20\n",
      "34/34 [==============================] - 10s 299ms/step - loss: 0.0900 - accuracy: 0.9710 - val_loss: 0.0592 - val_accuracy: 0.9688\n",
      "Epoch 17/20\n",
      "34/34 [==============================] - 10s 295ms/step - loss: 0.1184 - accuracy: 0.9494 - val_loss: 0.0798 - val_accuracy: 0.9688\n",
      "Epoch 18/20\n",
      "34/34 [==============================] - 10s 294ms/step - loss: 0.1094 - accuracy: 0.9551 - val_loss: 0.0916 - val_accuracy: 0.9688\n",
      "Epoch 19/20\n",
      "34/34 [==============================] - 10s 301ms/step - loss: 0.0924 - accuracy: 0.9623 - val_loss: 0.0478 - val_accuracy: 0.9805\n",
      "Epoch 20/20\n",
      "34/34 [==============================] - 10s 295ms/step - loss: 0.0869 - accuracy: 0.9625 - val_loss: 0.0546 - val_accuracy: 0.9766\n"
     ]
    },
    {
     "data": {
      "text/plain": [
       "<tensorflow.python.keras.callbacks.History at 0x1c16dae7688>"
      ]
     },
     "execution_count": 9,
     "metadata": {},
     "output_type": "execute_result"
    }
   ],
   "source": [
    "INIT_LR = 1e-4\n",
    "EPOCHS = 20\n",
    "BS = 32\n",
    "opt = tf.keras.optimizers.Adam(learning_rate=INIT_LR, decay=INIT_LR/EPOCHS)\n",
    "\n",
    "model.compile(loss='binary_crossentropy', optimizer=opt, metrics =['accuracy'])\n",
    "model.fit(aug_generate.flow(images_train, labels_train, batch_size=BS),\n",
    "            steps_per_epoch=len(images_train) // BS,\n",
    "            validation_data=(images_test, labels_test),\n",
    "            validation_steps=len(images_test) // BS,\n",
    "            epochs = EPOCHS)"
   ]
  },
  {
   "cell_type": "code",
   "execution_count": 13,
   "metadata": {},
   "outputs": [
    {
     "name": "stdout",
     "output_type": "stream",
     "text": [
      "276/276 [==============================] - 1s 2ms/sample - loss: 0.0551 - accuracy: 0.9783\n"
     ]
    }
   ],
   "source": [
    "loss, accuracy = model.evaluate(images_test, labels_test)"
   ]
  },
  {
   "cell_type": "code",
   "execution_count": 43,
   "metadata": {},
   "outputs": [],
   "source": [
    "MODEL_PATH = \"C:/Users/cauld/Documents/python/mask_classifier_model.h5\"\n",
    "model.save(MODEL_PATH)"
   ]
  },
  {
   "cell_type": "code",
   "execution_count": 84,
   "metadata": {},
   "outputs": [],
   "source": [
    "CONFIDENCE = 0.5\n",
    "FACE_DETECTOR = \"C:/Users/cauld/Downloads/face-mask-detector/face-mask-detector/face_detector\"\n",
    "MODEL_PATH = \"C:/Users/cauld/Documents/python\"\n",
    "IMG_PATH = 'C:/Users/cauld/Desktop/temp.jpg'"
   ]
  },
  {
   "cell_type": "code",
   "execution_count": 44,
   "metadata": {},
   "outputs": [],
   "source": [
    "prototxtPath = os.path.sep.join([FACE_DETECTOR, \"deploy.prototxt\"])\n",
    "weightsPath = os.path.sep.join([FACE_DETECTOR, \"res10_300x300_ssd_iter_140000.caffemodel\"])\n",
    "net = cv2.dnn.readNet(prototxtPath, weightsPath)\n",
    "\n",
    "model = tf.keras.models.load_model(MODEL_PATH)"
   ]
  },
  {
   "cell_type": "code",
   "execution_count": 85,
   "metadata": {},
   "outputs": [],
   "source": [
    "image = cv2.imread(IMG_PATH)\n",
    "orig = image.copy()\n",
    "(h, w) = image.shape[:2]\n",
    "\n",
    "blob = cv2.dnn.blobFromImage(image, 1.0, (300, 300), (104.0, 177.0, 123.0))\n",
    "net.setInput(blob)\n",
    "detections = net.forward()"
   ]
  },
  {
   "cell_type": "code",
   "execution_count": 86,
   "metadata": {},
   "outputs": [
    {
     "data": {
      "text/plain": [
       "-1"
      ]
     },
     "execution_count": 86,
     "metadata": {},
     "output_type": "execute_result"
    }
   ],
   "source": [
    "for i in range(0, detections.shape[2]):\n",
    "    confidence = detections[0, 0, i, 2]\n",
    "    if confidence > CONFIDENCE:\n",
    "        box = detections[0, 0, i, 3:7] * np.array([w, h, w, h])\n",
    "        (startX, startY, endX, endY) = box.astype(\"int\")\n",
    "        (startX, startY) = (max(0, startX), max(0, startY))\n",
    "        (endX, endY) = (min(w - 1, endX), min(h - 1, endY))\n",
    "        face = image[startY:endY, startX:endX]\n",
    "        face = cv2.cvtColor(face, cv2.COLOR_BGR2RGB)\n",
    "        face = cv2.resize(face, (224, 224))\n",
    "        face = img_to_array(face)\n",
    "        face = preprocess_input(face)\n",
    "        face = np.expand_dims(face, axis=0)\n",
    "        (withoutMask, mask) = model.predict(face)[0]\n",
    "        \n",
    "        label = \"Mask\" if mask > withoutMask else \"No Mask\"\n",
    "        color = (0, 255, 0) if label == \"Mask\" else (0, 0, 255)\n",
    "        label = \"{}: {:.2f}%\".format(label, max(mask, withoutMask) * 100)\n",
    "        cv2.putText(image, label, (startX, startY - 10), cv2.FONT_HERSHEY_SIMPLEX, 0.45, color, 2)\n",
    "        cv2.rectangle(image, (startX, startY), (endX, endY), color, 2)\n",
    "        \n",
    "cv2.imshow(\"Output\", image)\n",
    "cv2.waitKey(0)"
   ]
  },
  {
   "cell_type": "code",
   "execution_count": null,
   "metadata": {},
   "outputs": [],
   "source": []
  }
 ],
 "metadata": {
  "kernelspec": {
   "display_name": "tensorflow",
   "language": "python",
   "name": "tensorflow"
  },
  "language_info": {
   "codemirror_mode": {
    "name": "ipython",
    "version": 3
   },
   "file_extension": ".py",
   "mimetype": "text/x-python",
   "name": "python",
   "nbconvert_exporter": "python",
   "pygments_lexer": "ipython3",
   "version": "3.7.7"
  }
 },
 "nbformat": 4,
 "nbformat_minor": 4
}
